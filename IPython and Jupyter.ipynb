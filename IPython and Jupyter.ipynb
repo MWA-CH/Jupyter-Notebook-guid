{
 "cells": [
  {
   "cell_type": "markdown",
   "metadata": {},
   "source": [
    "# Ipython and Jupyter.\n",
    "\n",
    "* ref: python for data analysis"
   ]
  },
  {
   "cell_type": "markdown",
   "metadata": {},
   "source": [
    "### KeyBoard Shortcuts\n",
    "\n",
    "- Ctrl-P or up-arrow Search backward in command history for commands starting with currently entered text\n",
    "- Ctrl-N or down-arrow Search forward in command history for commands starting with currently entered text\n",
    "- Ctrl-R Readline-style reverse history search (partial matching)\n",
    "- Ctrl-Shift-V Paste text from clipboard\n",
    "- Ctrl-C Interrupt currently executing code\n",
    "- Ctrl-A Move cursor to beginning of line\n",
    "- Ctrl-E Move cursor to end of line\n",
    "- Ctrl-K Delete text from cursor until end of line\n",
    "- Ctrl-U Discard all text on current line\n",
    "- Ctrl-F Move cursor forward one character\n",
    "- Ctrl-B Move cursor back one character\n",
    "- Ctrl-L Clear screen"
   ]
  },
  {
   "cell_type": "markdown",
   "metadata": {},
   "source": [
    "## Introspection\n",
    "\n",
    "Using a question mark (?) before or after a variable (or function identifier) will display some general information\n",
    "about the object(function):\n",
    "``` python\n",
    "\n",
    "a = [1,2,3]\n",
    "\n",
    "a?\n",
    "```\n",
    "``` python\n",
    "\n",
    "print?\n",
    "# or\n",
    "print??\n",
    "```"
   ]
  },
  {
   "cell_type": "code",
   "execution_count": 7,
   "metadata": {},
   "outputs": [],
   "source": [
    "a = [1,2,3]\n",
    "a?"
   ]
  },
  {
   "cell_type": "code",
   "execution_count": 8,
   "metadata": {},
   "outputs": [],
   "source": [
    "print??"
   ]
  },
  {
   "cell_type": "markdown",
   "metadata": {},
   "source": [
    "## Magic Commands\n",
    "IPython’s special commands (which are not built into Python itself) are known as\n",
    "“magic” commands. These are designed to facilitate common tasks and enable you to\n",
    "easily control the behavior of the IPython system. A magic command is any command\n",
    "prefixed by the percent symbol %."
   ]
  },
  {
   "cell_type": "markdown",
   "metadata": {},
   "source": [
    "### The %run Command\n",
    "\n",
    "You can run any file as a Python program inside the environment of your IPython\n",
    "session using the %run command. Suppose you had the following simple script stored\n",
    "in ipython_script_test.py (File must be in current directory):<br>\n",
    "```python\n",
    "def f(x, y, z):\n",
    "    return (x + y) / z\n",
    "\n",
    "a = 5\n",
    "b = 6\n",
    "c = 7.5\n",
    "result = f(a, b, c)\n",
    "print(result)\n",
    "```\n",
    "You can execute this by passing the filename to %run:<br><br>\n",
    "\n",
    "In [14]: %run ipython_script_test.py\n",
    "<br><br>\n",
    "Result: \n",
    "<br>\n",
    "1.4666666666666666"
   ]
  },
  {
   "cell_type": "code",
   "execution_count": 1,
   "metadata": {},
   "outputs": [
    {
     "name": "stdout",
     "output_type": "stream",
     "text": [
      "1.4666666666666666\n"
     ]
    }
   ],
   "source": [
    "%run ipython_script_test.py"
   ]
  },
  {
   "cell_type": "markdown",
   "metadata": {},
   "source": [
    "In the Jupyter notebook, you may also use the related %load magic function, which\n",
    "imports a script into a code cell:<br>\n",
    "e.g\n",
    "\n",
    "In []:  %load ipyhton_script_test.py\n",
    "\n",
    "will result in the following.\n",
    "\n",
    "```python\n",
    "def f(x, y, z):\n",
    "\treturn (x + y) / z\n",
    "a = 5\n",
    "b = 6\n",
    "c = 7.5\n",
    "result = f(a, b, c)\n",
    "print(result)\n",
    "```"
   ]
  },
  {
   "cell_type": "code",
   "execution_count": 2,
   "metadata": {},
   "outputs": [
    {
     "name": "stdout",
     "output_type": "stream",
     "text": [
      "1.4666666666666666\n"
     ]
    }
   ],
   "source": [
    "# %load ipython_script_test.py\n",
    "def f(x, y, z):\n",
    "\treturn (x + y) / z\n",
    "a = 5\n",
    "b = 6\n",
    "c = 7.5\n",
    "result = f(a, b, c)\n",
    "print(result)"
   ]
  },
  {
   "cell_type": "markdown",
   "metadata": {},
   "source": [
    "#### Some Magic Command\n",
    "\n",
    "|Command|Description|\n",
    "|:------|:----------|\n",
    "|%pwd|Current Working Directory|\n",
    "|%quickref| Display the IPython Quick Reference Card\n",
    "|%magic| Display detailed documentation for all of the available magic commands\n",
    "|%debug| Enter the interactive debugger at the bottom of the last exception traceback\n",
    "|%hist| Print command input (and optionally output) history\n",
    "|%pdb| Automatically enter debugger after any exception\n",
    "|%paste| Execute preformatted Python code from clipboard\n",
    "|%cpaste| Open a special prompt for manually pasting Python code to be executed\n",
    "|%reset| Delete all variables/names defined in interactive namespace\n",
    "|%page| OBJECT Pretty-print the object and display it through a pager\n",
    "|%run| script.py Run a Python script inside IPython\n",
    "|%prun| statement Execute statement with cProfile and report the profiler output\n",
    "|%time| statement Report the execution time of a single statement\n",
    "|%timeit| statement Run a statement multiple times to compute an ensemble average execution time; useful for\n",
    "|%timing| code with very short execution time\n",
    "|%who, %who_ls, %whos| Display variables defined in interactive namespace, with varying levels of information/\n",
    "|verbosity\n",
    "|%xdel| variable Delete a variable and attempt to clear any references to the object in the IPython internals"
   ]
  },
  {
   "cell_type": "code",
   "execution_count": 10,
   "metadata": {},
   "outputs": [
    {
     "data": {
      "text/plain": [
       "'C:\\\\Users\\\\azrav'"
      ]
     },
     "execution_count": 10,
     "metadata": {},
     "output_type": "execute_result"
    }
   ],
   "source": [
    "%pwd"
   ]
  },
  {
   "cell_type": "code",
   "execution_count": 6,
   "metadata": {},
   "outputs": [
    {
     "name": "stdout",
     "output_type": "stream",
     "text": [
      "a\t b\t c\t f\t result\t \n"
     ]
    }
   ],
   "source": [
    "# displays The  variables in current namespace.\n",
    "\n",
    "%who\n",
    "\n",
    "# %who_ls\n",
    "# displays the variables in current namespace in list  "
   ]
  },
  {
   "cell_type": "markdown",
   "metadata": {},
   "source": [
    "### Ternary expressions\n",
    "A ternary expression in Python allows you to combine an if-else block that produces\n",
    "a value into a single line or expression. The syntax for this in Python is: <br>\n",
    "<br><br>\n",
    "<it>value = true-expr if condition else false-expr<it>\n",
    "<br><br>\n",
    "Here, true-expr and false-expr can be any Python expressions. It has the identical\n",
    "effect as the more verbose:\n",
    "<br><br>\n",
    "``` python\n",
    "if condition:\n",
    "    value = true-expr\n",
    "else:\n",
    "    value = false-expr\n",
    "\n",
    "```"
   ]
  },
  {
   "cell_type": "code",
   "execution_count": 15,
   "metadata": {},
   "outputs": [
    {
     "data": {
      "text/plain": [
       "10"
      ]
     },
     "execution_count": 15,
     "metadata": {},
     "output_type": "execute_result"
    }
   ],
   "source": [
    "x = 5\n",
    "A= 5 if x > 10 else 10\n",
    "A"
   ]
  },
  {
   "cell_type": "markdown",
   "metadata": {},
   "source": [
    "# Markdown Jupyter Guide"
   ]
  },
  {
   "cell_type": "markdown",
   "metadata": {},
   "source": [
    "## Heading\n",
    "\n",
    " Use #s followed by a blank space for notebook titles and section headings: <br>\n",
    "`` # title ``<br>\n",
    "``## major headings``<br>\n",
    "``### subheadings``<br>\n",
    "``#### 4th level subheadings``<br>\n"
   ]
  },
  {
   "cell_type": "markdown",
   "metadata": {},
   "source": [
    "\n",
    "## Emphasis: \n",
    "\n",
    "Use this code: \n",
    "1. Bold: ``__string__ or **string**`` \n",
    "2. Italic:`` _string_ or *string*``"
   ]
  },
  {
   "cell_type": "markdown",
   "metadata": {},
   "source": [
    "## Mathematical symbols and Equation: \n",
    "\n",
    "Use this code: ``$ mathematical symbols $``\n",
    "the symbols can be added using latex command. e.g ``$\\pi$`` will insert $\\pi$ <br>\n",
    "``$\\frac{2\\pi}{3} \\times \\sin\\theta$`` will result in  $\\frac{2\\pi}{3} \\times \\sin\\theta$\n",
    "<br>\n",
    "\n",
    "``$ \\sum_{i=0}^{\\infty} 2^{-n}=1 $`` will result in: $ \\sum_{i=0}^{\\infty} 2^{-n}=1 $\n",
    "\n",
    "latext symbols: https://artofproblemsolving.com/wiki/index.php/LaTeX:Symbols\n",
    "\n",
    "\n"
   ]
  },
  {
   "cell_type": "markdown",
   "metadata": {},
   "source": [
    "## Line Breaks\n",
    "\n",
    "use `` <br> `` for add a break in line.\n",
    "\n",
    "\n"
   ]
  },
  {
   "cell_type": "markdown",
   "metadata": {},
   "source": [
    "## Colors \n",
    "Use this code: ``<font color=blue|red|green|pink|yellow>Text</font>`` <br><br>\n",
    "Not all markdown code works within a font tag, so review your colored text carefully! <br><br>\n",
    "``<font color=blue>Text</font>`` results in <font color=blue>Text</font> <br>\n",
    "``<font color=red>Text</font>``results in <font color=red>Text</font> <br>\n",
    "``<font color=green>Text</font>``would result in <font color=green>Text</font> <br>\n",
    "``<font color=pink>Text</font>`` would give <font color=pink>Text</font> <br>\n",
    "``<font color=yellow>Text</font>`` would give <font color=yellow>Text</font> \n",
    "\n"
   ]
  },
  {
   "cell_type": "markdown",
   "metadata": {},
   "source": [
    "# Showing indentation\n",
    "\n",
    "use a greater sign followed by a space. The text will be indented a tabe and a vertical line will display in left.\n",
    "\n",
    "``> One Indent`` will show as follow <br>\n",
    "> One Indent\n",
    "\n",
    "``>> Two Indent`` for indentations\n",
    "\n",
    ">>  Two indent\n",
    "\n"
   ]
  },
  {
   "cell_type": "markdown",
   "metadata": {},
   "source": [
    "# Horizontal Separators\n",
    "\n",
    "use `` **** `` for horizontal Separator\n",
    "\n",
    "``Line1``<br>\n",
    "``****`` <br>\n",
    "``Line2``<br>\n",
    "\n",
    "will result in\n",
    "\n",
    "Line1\n",
    "****\n",
    "Line2"
   ]
  },
  {
   "cell_type": "markdown",
   "metadata": {},
   "source": [
    "## Bullets\n",
    "\n",
    "Number and Bullets can be added by using either number, - or * . add a tab in the start for sub text. example:\n",
    "\n",
    "1. Text1\n",
    "2. Text2\n",
    "3. Text3\n",
    "    1. subtext1\n",
    "    2. subtext2\n",
    "        1. subsubtext1\n",
    "        2. subsubtext2\n",
    "4. Text4\n",
    "\n",
    "\n",
    "###### using * \n",
    "\n",
    "* Text1\n",
    "* Text2\n",
    "    * SubText1\n",
    "    * SubText2\n",
    "        * Subsubtext1\n",
    "* Text3\n",
    "\n",
    "\n",
    "###### using -\n",
    "\n",
    "- Text1\n",
    "- Text2\n",
    "    - SubText1\n",
    "    - Subtext2\n",
    "        - SubSubText1\n",
    "\n"
   ]
  },
  {
   "cell_type": "markdown",
   "metadata": {},
   "source": [
    "## Graphics: \n",
    "You can attach image files directly to a notebook only in Markdown cells. Drag and drop your images to the Mardown cell to attach it to the notebook. To add images to other cell types, you can use only graphics that are hosted on the web. You can’t add captions for graphics at this time. Use this code: \n",
    "``<img src=\"url.gif\" alt=\"Alt text that describes the graphic\" title=\"Title text\" />``\n"
   ]
  },
  {
   "cell_type": "markdown",
   "metadata": {},
   "source": [
    "## Adding code\n",
    "\n",
    "\n",
    "code can be added by adding ` ```` ` in the start and end of the code.\n",
    "\n",
    "```` \n",
    "# This is a code\n",
    "print(\"Print this line.\")\n",
    "````\n",
    "<br>\n",
    "programming language can be mentioned. and code will be marked.<br>\n",
    "\n",
    "\n",
    "```` python \n",
    "# This is a code\n",
    "Var1 = 5\n",
    "Var2 = 10\n",
    "print(f\"Sum is: {Var1 + Var2}\")\n",
    "````\n",
    "\n",
    "other languages can also be specified\n",
    "\n",
    "```` C++ \n",
    "//This is a C++ code\n",
    "#include<iostream>\n",
    "using namespace std\n",
    "\n",
    "int main()\n",
    "{\n",
    "    printf(\"Print this line.\");\n",
    "}\n",
    "````\n"
   ]
  },
  {
   "cell_type": "markdown",
   "metadata": {},
   "source": [
    "## Tables\n",
    "\n",
    "a table can be added using following procedure\n",
    "\n",
    "`\n",
    "|Column1 Hedaing|Column2 Heading|\n",
    "|---------------|---------------|\n",
    "|Row1|Row1|\n",
    "|Row2|Row2|\n",
    "`\n",
    "<br>\n",
    "this will result in \n",
    "\n",
    "|Column1 Hedaing|Column2 Heading|\n",
    "|---------------|---------------|\n",
    "|Row1|Row1|\n",
    "|Row2|Row2|\n",
    "\n",
    "\n",
    "###### Adjust text in rows\n",
    "\n",
    "`|:-----|` for left indent\n",
    "\n",
    "|Column1 Hedaing|Column2 Heading|\n",
    "|:--------------|:--------------|\n",
    "|Row1|Row1|\n",
    "|Row2|Row2|\n",
    "\n",
    "\n",
    "`|-----:|` for left indent\n",
    "\n",
    "|Column1 Hedaing|Column2 Heading|\n",
    "|--------------:|--------------:|\n",
    "|Row1|Row1|\n",
    "|Row2|Row2|\n",
    "\n",
    "`|:----:|` for left indent\n",
    "\n",
    "|Column1 Hedaing|Column2 Heading|\n",
    "|:-------------:|:-------------:|\n",
    "|Row1|Row1|\n",
    "|Row2|Row2|\n"
   ]
  },
  {
   "attachments": {
    "Capture.PNG": {
     "image/png": "[encoded data removed]"
    }
   },
   "cell_type": "markdown",
   "metadata": {},
   "source": [
    "## Command mode\n",
    "\n",
    "To enter in command mode press ` ESC `\n",
    "Once in command mode, press H (help) to get a list of keyboard shortcuts\n",
    "![Capture.PNG](attachment:Capture.PNG)"
   ]
  },
  {
   "cell_type": "markdown",
   "metadata": {},
   "source": []
  },
  {
   "cell_type": "code",
   "execution_count": null,
   "metadata": {},
   "outputs": [],
   "source": []
  }
 ],
 "metadata": {
  "kernelspec": {
   "display_name": "Python 3",
   "language": "python",
   "name": "python3"
  },
  "language_info": {
   "codemirror_mode": {
    "name": "ipython",
    "version": 3
   },
   "file_extension": ".py",
   "mimetype": "text/x-python",
   "name": "python",
   "nbconvert_exporter": "python",
   "pygments_lexer": "ipython3",
   "version": "3.7.6"
  }
 },
 "nbformat": 4,
 "nbformat_minor": 4
}
